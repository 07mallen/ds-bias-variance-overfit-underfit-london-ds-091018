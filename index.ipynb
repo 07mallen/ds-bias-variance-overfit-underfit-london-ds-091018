{
 "cells": [
  {
   "cell_type": "markdown",
   "metadata": {},
   "source": [
    "# Bias Variance Tradeoff + More Overfitting"
   ]
  },
  {
   "cell_type": "markdown",
   "metadata": {},
   "source": [
    "When modelling, we are trying to create a useful prediction that can help us in the future. When doing this, we have seen how we need to create a train test split in order to keep ourselves honest in tuning our model to the data itself. Another perspective on this problem of overfitting versus underfitting is the bias variance tradeoff. We can decompose the mean squared error of our models in terms of bias and variance to further investigate.\n",
    "\n",
    "$ E[(y-\\hat{f}(x)^2] = Bias(\\hat{f}(x))^2 + Var(\\hat{f}(x)) + \\sigma^2$\n",
    "  \n",
    "  \n",
    "$Bias(\\hat{f}(x)) = E[\\hat{f}(x)-f(x)]$  \n",
    "$Var(\\hat{f}(x)) = E[\\hat{f}(x)^2] - \\big(E[\\hat{f}(x)]\\big)^2$\n",
    "\n",
    "<img src=\"./images/bias_variance.png\" alt=\"Drawing\" style=\"width: 500px;\"/>"
   ]
  },
  {
   "cell_type": "markdown",
   "metadata": {},
   "source": [
    "## 1. Split the data into a test and train set."
   ]
  },
  {
   "cell_type": "code",
   "execution_count": 1,
   "metadata": {},
   "outputs": [
    {
     "data": {
      "text/html": [
       "<div>\n",
       "<style scoped>\n",
       "    .dataframe tbody tr th:only-of-type {\n",
       "        vertical-align: middle;\n",
       "    }\n",
       "\n",
       "    .dataframe tbody tr th {\n",
       "        vertical-align: top;\n",
       "    }\n",
       "\n",
       "    .dataframe thead th {\n",
       "        text-align: right;\n",
       "    }\n",
       "</style>\n",
       "<table border=\"1\" class=\"dataframe\">\n",
       "  <thead>\n",
       "    <tr style=\"text-align: right;\">\n",
       "      <th></th>\n",
       "      <th>budget</th>\n",
       "      <th>domgross</th>\n",
       "      <th>title</th>\n",
       "      <th>Response_Json</th>\n",
       "      <th>Year</th>\n",
       "      <th>imdbRating</th>\n",
       "      <th>Metascore</th>\n",
       "      <th>imdbVotes</th>\n",
       "      <th>Model</th>\n",
       "    </tr>\n",
       "  </thead>\n",
       "  <tbody>\n",
       "    <tr>\n",
       "      <th>0</th>\n",
       "      <td>0.034169</td>\n",
       "      <td>0.055325</td>\n",
       "      <td>21 &amp;amp; Over</td>\n",
       "      <td>NaN</td>\n",
       "      <td>0.997516</td>\n",
       "      <td>0.839506</td>\n",
       "      <td>0.500000</td>\n",
       "      <td>0.384192</td>\n",
       "      <td>0.261351</td>\n",
       "    </tr>\n",
       "    <tr>\n",
       "      <th>1</th>\n",
       "      <td>0.182956</td>\n",
       "      <td>0.023779</td>\n",
       "      <td>Dredd 3D</td>\n",
       "      <td>NaN</td>\n",
       "      <td>0.999503</td>\n",
       "      <td>0.000000</td>\n",
       "      <td>0.000000</td>\n",
       "      <td>0.000000</td>\n",
       "      <td>0.070486</td>\n",
       "    </tr>\n",
       "    <tr>\n",
       "      <th>2</th>\n",
       "      <td>0.066059</td>\n",
       "      <td>0.125847</td>\n",
       "      <td>12 Years a Slave</td>\n",
       "      <td>NaN</td>\n",
       "      <td>1.000000</td>\n",
       "      <td>1.000000</td>\n",
       "      <td>1.000000</td>\n",
       "      <td>1.000000</td>\n",
       "      <td>0.704489</td>\n",
       "    </tr>\n",
       "    <tr>\n",
       "      <th>3</th>\n",
       "      <td>0.252847</td>\n",
       "      <td>0.183719</td>\n",
       "      <td>2 Guns</td>\n",
       "      <td>NaN</td>\n",
       "      <td>1.000000</td>\n",
       "      <td>0.827160</td>\n",
       "      <td>0.572917</td>\n",
       "      <td>0.323196</td>\n",
       "      <td>0.371052</td>\n",
       "    </tr>\n",
       "    <tr>\n",
       "      <th>4</th>\n",
       "      <td>0.157175</td>\n",
       "      <td>0.233625</td>\n",
       "      <td>42</td>\n",
       "      <td>NaN</td>\n",
       "      <td>1.000000</td>\n",
       "      <td>0.925926</td>\n",
       "      <td>0.645833</td>\n",
       "      <td>0.137984</td>\n",
       "      <td>0.231656</td>\n",
       "    </tr>\n",
       "  </tbody>\n",
       "</table>\n",
       "</div>"
      ],
      "text/plain": [
       "     budget  domgross             title  Response_Json      Year  imdbRating  \\\n",
       "0  0.034169  0.055325     21 &amp; Over            NaN  0.997516    0.839506   \n",
       "1  0.182956  0.023779          Dredd 3D            NaN  0.999503    0.000000   \n",
       "2  0.066059  0.125847  12 Years a Slave            NaN  1.000000    1.000000   \n",
       "3  0.252847  0.183719            2 Guns            NaN  1.000000    0.827160   \n",
       "4  0.157175  0.233625                42            NaN  1.000000    0.925926   \n",
       "\n",
       "   Metascore  imdbVotes     Model  \n",
       "0   0.500000   0.384192  0.261351  \n",
       "1   0.000000   0.000000  0.070486  \n",
       "2   1.000000   1.000000  0.704489  \n",
       "3   0.572917   0.323196  0.371052  \n",
       "4   0.645833   0.137984  0.231656  "
      ]
     },
     "execution_count": 1,
     "metadata": {},
     "output_type": "execute_result"
    }
   ],
   "source": [
    "import pandas as pd\n",
    "df = pd.read_excel('./movie_data_detailed_with_ols.xlsx')\n",
    "def norm(col):\n",
    "    minimum = col.min()\n",
    "    maximum = col.max()\n",
    "    return (col-minimum)/(maximum-minimum)\n",
    "for col in df:\n",
    "    try:\n",
    "        df[col] = norm(df[col])\n",
    "    except:\n",
    "        pass\n",
    "X = df[['budget','imdbRating','Metascore','imdbVotes']]\n",
    "y = df['domgross']\n",
    "df.head()"
   ]
  },
  {
   "cell_type": "code",
   "execution_count": 2,
   "metadata": {},
   "outputs": [],
   "source": [
    "#Your code here\n",
    "from sklearn.model_selection import train_test_split\n",
    "X_train , X_test, y_train, y_test = train_test_split(X, y)"
   ]
  },
  {
   "cell_type": "markdown",
   "metadata": {},
   "source": [
    "## 2. Fit a regression model to the training data."
   ]
  },
  {
   "cell_type": "code",
   "execution_count": 3,
   "metadata": {},
   "outputs": [],
   "source": [
    "#Your code here\n",
    "from sklearn.linear_model import *"
   ]
  },
  {
   "cell_type": "code",
   "execution_count": 4,
   "metadata": {},
   "outputs": [],
   "source": [
    "linreg = LinearRegression()"
   ]
  },
  {
   "cell_type": "code",
   "execution_count": 5,
   "metadata": {},
   "outputs": [
    {
     "data": {
      "text/plain": [
       "LinearRegression(copy_X=True, fit_intercept=True, n_jobs=1, normalize=False)"
      ]
     },
     "execution_count": 5,
     "metadata": {},
     "output_type": "execute_result"
    }
   ],
   "source": [
    "linreg.fit(X_train, y_train)"
   ]
  },
  {
   "cell_type": "code",
   "execution_count": 6,
   "metadata": {},
   "outputs": [],
   "source": [
    "import matplotlib.pyplot as plt\n",
    "%matplotlib inline"
   ]
  },
  {
   "cell_type": "code",
   "execution_count": 7,
   "metadata": {},
   "outputs": [
    {
     "data": {
      "text/plain": [
       "Text(0.5,1,'Model vs Data for Training Set')"
      ]
     },
     "execution_count": 7,
     "metadata": {},
     "output_type": "execute_result"
    },
    {
     "data": {
      "image/png": "[encoded data removed]",
      "text/plain": [
       "<Figure size 432x288 with 1 Axes>"
      ]
     },
     "metadata": {},
     "output_type": "display_data"
    }
   ],
   "source": [
    "plt.scatter(y_train, linreg.predict(X_train), label='Model')\n",
    "plt.scatter(y_train, y_train, label='Actual Data')\n",
    "plt.title('Model vs Data for Training Set')"
   ]
  },
  {
   "cell_type": "code",
   "execution_count": 8,
   "metadata": {},
   "outputs": [
    {
     "data": {
      "text/plain": [
       "Text(0.5,1,'Model vs Data for Test Set')"
      ]
     },
     "execution_count": 8,
     "metadata": {},
     "output_type": "execute_result"
    },
    {
     "data": {
      "image/png": "[encoded data removed]",
      "text/plain": [
       "<Figure size 432x288 with 1 Axes>"
      ]
     },
     "metadata": {},
     "output_type": "display_data"
    }
   ],
   "source": [
    "linreg = LinearRegression()\n",
    "linreg.fit(X_train, y_train)\n",
    "plt.scatter(y_test, linreg.predict(X_test), label='Model')\n",
    "plt.scatter(y_test, y_test, label='Actual Data')\n",
    "plt.legend()\n",
    "plt.title('Model vs Data for Test Set')"
   ]
  },
  {
   "cell_type": "markdown",
   "metadata": {},
   "source": [
    "## 3. Calculating Bias\n",
    "Write a formula to calculate the bias of a models predictions given the actual data.   \n",
    "(The expected value can simply be taken as the mean or average value.)  \n",
    "$Bias(\\hat{f}(x)) = E[\\hat{f}(x)-f(x)]$  "
   ]
  },
  {
   "cell_type": "code",
   "execution_count": 8,
   "metadata": {},
   "outputs": [],
   "source": [
    "import numpy as np"
   ]
  },
  {
   "cell_type": "code",
   "execution_count": 9,
   "metadata": {},
   "outputs": [],
   "source": [
    "def bias(y, y_hat):\n",
    "    return np.mean(y_hat - y)"
   ]
  },
  {
   "cell_type": "markdown",
   "metadata": {},
   "source": [
    "## 4. Calculating Variance\n",
    "Write a formula to calculate the variance of a model's predictions (or any set of data).  \n",
    "$Var(\\hat{f}(x)) = E[\\hat{f}(x)^2] - \\big(E[\\hat{f}(x)]\\big)^2$"
   ]
  },
  {
   "cell_type": "code",
   "execution_count": 10,
   "metadata": {},
   "outputs": [],
   "source": [
    "def variance(y_hat):\n",
    "    return np.mean([yi**2 for yi in y_hat]) - np.mean(y_hat)**2 #Your code here"
   ]
  },
  {
   "cell_type": "markdown",
   "metadata": {},
   "source": [
    "## 5. Us your functions to calculate the bias and variance of your model. Do this seperately for the train and test sets."
   ]
  },
  {
   "cell_type": "code",
   "execution_count": 11,
   "metadata": {},
   "outputs": [
    {
     "name": "stdout",
     "output_type": "stream",
     "text": [
      "Bias: -6.371166220860273e-17 \n",
      "Variance: 0.0027257206584798514\n"
     ]
    }
   ],
   "source": [
    "b = bias(y_train, linreg.predict(X_train)) #Your code here\n",
    "v = variance(linreg.predict(X_train)) #Your code here\n",
    "print('Bias: {} \\nVariance: {}'.format(b,v))"
   ]
  },
  {
   "cell_type": "code",
   "execution_count": 12,
   "metadata": {},
   "outputs": [
    {
     "name": "stdout",
     "output_type": "stream",
     "text": [
      "Bias: -0.24664654755073653 \n",
      "Variance: 0.00989239204558029\n"
     ]
    }
   ],
   "source": [
    "b = bias(y_test, linreg.predict(X_test)) #Your code here\n",
    "v = variance(linreg.predict(X_test)) #Your code here\n",
    "print('Bias: {} \\nVariance: {}'.format(b,v))"
   ]
  },
  {
   "cell_type": "markdown",
   "metadata": {},
   "source": [
    "## 6. Describe in words what these numbers can tell you."
   ]
  },
  {
   "cell_type": "markdown",
   "metadata": {},
   "source": [
    "The training set had far less bias (was more accurate) then the test set.\n",
    "The test set also had more variance"
   ]
  },
  {
   "cell_type": "markdown",
   "metadata": {},
   "source": [
    "## 7. Overfit a new model by creating additional features by raising current features to various powers."
   ]
  },
  {
   "cell_type": "code",
   "execution_count": 13,
   "metadata": {},
   "outputs": [],
   "source": [
    "def add_polynomial_features(X, powers_to_add, max_features):\n",
    "    orig_columns = X.columns\n",
    "    for feat in orig_columns:\n",
    "        for i in powers_to_add:\n",
    "            X['{}^{}'.format(feat, i)] = X[feat].map(lambda x: x**i)\n",
    "            if len(X.columns) >= max_features:\n",
    "                break\n",
    "        if len(X.columns) >= max_features:\n",
    "            break\n",
    "    return X"
   ]
  },
  {
   "cell_type": "code",
   "execution_count": 14,
   "metadata": {},
   "outputs": [
    {
     "name": "stderr",
     "output_type": "stream",
     "text": [
      "/Users/matthew.mitchell/anaconda3/lib/python3.6/site-packages/ipykernel_launcher.py:5: SettingWithCopyWarning: \n",
      "A value is trying to be set on a copy of a slice from a DataFrame.\n",
      "Try using .loc[row_indexer,col_indexer] = value instead\n",
      "\n",
      "See the caveats in the documentation: http://pandas.pydata.org/pandas-docs/stable/indexing.html#indexing-view-versus-copy\n",
      "  \"\"\"\n"
     ]
    }
   ],
   "source": [
    "X_train = add_polynomial_features(X_train, range(2,6), max_features=25)\n",
    "X_test = add_polynomial_features(X_test, range(2,6), max_features=25)"
   ]
  },
  {
   "cell_type": "code",
   "execution_count": 15,
   "metadata": {},
   "outputs": [
    {
     "data": {
      "text/html": [
       "<div>\n",
       "<style scoped>\n",
       "    .dataframe tbody tr th:only-of-type {\n",
       "        vertical-align: middle;\n",
       "    }\n",
       "\n",
       "    .dataframe tbody tr th {\n",
       "        vertical-align: top;\n",
       "    }\n",
       "\n",
       "    .dataframe thead th {\n",
       "        text-align: right;\n",
       "    }\n",
       "</style>\n",
       "<table border=\"1\" class=\"dataframe\">\n",
       "  <thead>\n",
       "    <tr style=\"text-align: right;\">\n",
       "      <th></th>\n",
       "      <th>budget</th>\n",
       "      <th>imdbRating</th>\n",
       "      <th>Metascore</th>\n",
       "      <th>imdbVotes</th>\n",
       "      <th>budget^2</th>\n",
       "      <th>budget^3</th>\n",
       "      <th>budget^4</th>\n",
       "      <th>budget^5</th>\n",
       "      <th>imdbRating^2</th>\n",
       "      <th>imdbRating^3</th>\n",
       "      <th>imdbRating^4</th>\n",
       "      <th>imdbRating^5</th>\n",
       "      <th>Metascore^2</th>\n",
       "      <th>Metascore^3</th>\n",
       "      <th>Metascore^4</th>\n",
       "      <th>Metascore^5</th>\n",
       "      <th>imdbVotes^2</th>\n",
       "      <th>imdbVotes^3</th>\n",
       "      <th>imdbVotes^4</th>\n",
       "      <th>imdbVotes^5</th>\n",
       "    </tr>\n",
       "  </thead>\n",
       "  <tbody>\n",
       "    <tr>\n",
       "      <th>12</th>\n",
       "      <td>0.202733</td>\n",
       "      <td>0.765432</td>\n",
       "      <td>0.541667</td>\n",
       "      <td>0.141391</td>\n",
       "      <td>0.041101</td>\n",
       "      <td>0.008333</td>\n",
       "      <td>0.001689</td>\n",
       "      <td>0.000342</td>\n",
       "      <td>0.585886</td>\n",
       "      <td>0.448456</td>\n",
       "      <td>0.343263</td>\n",
       "      <td>0.262744</td>\n",
       "      <td>0.293403</td>\n",
       "      <td>0.158927</td>\n",
       "      <td>0.086085</td>\n",
       "      <td>0.046629</td>\n",
       "      <td>0.019991</td>\n",
       "      <td>0.002827</td>\n",
       "      <td>0.000400</td>\n",
       "      <td>0.000057</td>\n",
       "    </tr>\n",
       "    <tr>\n",
       "      <th>14</th>\n",
       "      <td>0.225513</td>\n",
       "      <td>0.962963</td>\n",
       "      <td>0.864583</td>\n",
       "      <td>0.685073</td>\n",
       "      <td>0.050856</td>\n",
       "      <td>0.011469</td>\n",
       "      <td>0.002586</td>\n",
       "      <td>0.000583</td>\n",
       "      <td>0.927298</td>\n",
       "      <td>0.892953</td>\n",
       "      <td>0.859881</td>\n",
       "      <td>0.828034</td>\n",
       "      <td>0.747504</td>\n",
       "      <td>0.646280</td>\n",
       "      <td>0.558763</td>\n",
       "      <td>0.483097</td>\n",
       "      <td>0.469325</td>\n",
       "      <td>0.321522</td>\n",
       "      <td>0.220266</td>\n",
       "      <td>0.150899</td>\n",
       "    </tr>\n",
       "    <tr>\n",
       "      <th>5</th>\n",
       "      <td>1.000000</td>\n",
       "      <td>0.777778</td>\n",
       "      <td>0.291667</td>\n",
       "      <td>0.239554</td>\n",
       "      <td>1.000000</td>\n",
       "      <td>1.000000</td>\n",
       "      <td>1.000000</td>\n",
       "      <td>1.000000</td>\n",
       "      <td>0.604938</td>\n",
       "      <td>0.470508</td>\n",
       "      <td>0.365950</td>\n",
       "      <td>0.284628</td>\n",
       "      <td>0.085069</td>\n",
       "      <td>0.024812</td>\n",
       "      <td>0.007237</td>\n",
       "      <td>0.002111</td>\n",
       "      <td>0.057386</td>\n",
       "      <td>0.013747</td>\n",
       "      <td>0.003293</td>\n",
       "      <td>0.000789</td>\n",
       "    </tr>\n",
       "    <tr>\n",
       "      <th>2</th>\n",
       "      <td>0.066059</td>\n",
       "      <td>1.000000</td>\n",
       "      <td>1.000000</td>\n",
       "      <td>1.000000</td>\n",
       "      <td>0.004364</td>\n",
       "      <td>0.000288</td>\n",
       "      <td>0.000019</td>\n",
       "      <td>0.000001</td>\n",
       "      <td>1.000000</td>\n",
       "      <td>1.000000</td>\n",
       "      <td>1.000000</td>\n",
       "      <td>1.000000</td>\n",
       "      <td>1.000000</td>\n",
       "      <td>1.000000</td>\n",
       "      <td>1.000000</td>\n",
       "      <td>1.000000</td>\n",
       "      <td>1.000000</td>\n",
       "      <td>1.000000</td>\n",
       "      <td>1.000000</td>\n",
       "      <td>1.000000</td>\n",
       "    </tr>\n",
       "    <tr>\n",
       "      <th>18</th>\n",
       "      <td>0.000000</td>\n",
       "      <td>0.814815</td>\n",
       "      <td>0.687500</td>\n",
       "      <td>0.388722</td>\n",
       "      <td>0.000000</td>\n",
       "      <td>0.000000</td>\n",
       "      <td>0.000000</td>\n",
       "      <td>0.000000</td>\n",
       "      <td>0.663923</td>\n",
       "      <td>0.540974</td>\n",
       "      <td>0.440794</td>\n",
       "      <td>0.359165</td>\n",
       "      <td>0.472656</td>\n",
       "      <td>0.324951</td>\n",
       "      <td>0.223404</td>\n",
       "      <td>0.153590</td>\n",
       "      <td>0.151105</td>\n",
       "      <td>0.058738</td>\n",
       "      <td>0.022833</td>\n",
       "      <td>0.008876</td>\n",
       "    </tr>\n",
       "  </tbody>\n",
       "</table>\n",
       "</div>"
      ],
      "text/plain": [
       "      budget  imdbRating  Metascore  imdbVotes  budget^2  budget^3  budget^4  \\\n",
       "12  0.202733    0.765432   0.541667   0.141391  0.041101  0.008333  0.001689   \n",
       "14  0.225513    0.962963   0.864583   0.685073  0.050856  0.011469  0.002586   \n",
       "5   1.000000    0.777778   0.291667   0.239554  1.000000  1.000000  1.000000   \n",
       "2   0.066059    1.000000   1.000000   1.000000  0.004364  0.000288  0.000019   \n",
       "18  0.000000    0.814815   0.687500   0.388722  0.000000  0.000000  0.000000   \n",
       "\n",
       "    budget^5  imdbRating^2  imdbRating^3  imdbRating^4  imdbRating^5  \\\n",
       "12  0.000342      0.585886      0.448456      0.343263      0.262744   \n",
       "14  0.000583      0.927298      0.892953      0.859881      0.828034   \n",
       "5   1.000000      0.604938      0.470508      0.365950      0.284628   \n",
       "2   0.000001      1.000000      1.000000      1.000000      1.000000   \n",
       "18  0.000000      0.663923      0.540974      0.440794      0.359165   \n",
       "\n",
       "    Metascore^2  Metascore^3  Metascore^4  Metascore^5  imdbVotes^2  \\\n",
       "12     0.293403     0.158927     0.086085     0.046629     0.019991   \n",
       "14     0.747504     0.646280     0.558763     0.483097     0.469325   \n",
       "5      0.085069     0.024812     0.007237     0.002111     0.057386   \n",
       "2      1.000000     1.000000     1.000000     1.000000     1.000000   \n",
       "18     0.472656     0.324951     0.223404     0.153590     0.151105   \n",
       "\n",
       "    imdbVotes^3  imdbVotes^4  imdbVotes^5  \n",
       "12     0.002827     0.000400     0.000057  \n",
       "14     0.321522     0.220266     0.150899  \n",
       "5      0.013747     0.003293     0.000789  \n",
       "2      1.000000     1.000000     1.000000  \n",
       "18     0.058738     0.022833     0.008876  "
      ]
     },
     "execution_count": 15,
     "metadata": {},
     "output_type": "execute_result"
    }
   ],
   "source": [
    "X_train.head()"
   ]
  },
  {
   "cell_type": "markdown",
   "metadata": {},
   "source": [
    "## 8a. Plot your overfitted model's training predictions against the actual data."
   ]
  },
  {
   "cell_type": "code",
   "execution_count": 16,
   "metadata": {},
   "outputs": [
    {
     "data": {
      "text/plain": [
       "Text(0.5,1,'Model vs Data for Training Set')"
      ]
     },
     "execution_count": 16,
     "metadata": {},
     "output_type": "execute_result"
    },
    {
     "data": {
      "image/png": "[encoded data removed]",
      "text/plain": [
       "<Figure size 432x288 with 1 Axes>"
      ]
     },
     "metadata": {},
     "output_type": "display_data"
    }
   ],
   "source": [
    "linreg = LinearRegression()\n",
    "linreg.fit(X_train, y_train)\n",
    "plt.scatter(y_train, linreg.predict(X_train), label='Model')\n",
    "plt.scatter(y_train, y_train, label='Actual Data')\n",
    "plt.legend()\n",
    "plt.title('Model vs Data for Training Set')"
   ]
  },
  {
   "cell_type": "markdown",
   "metadata": {},
   "source": [
    "## 8b. Calculate the bias and variance for the train set."
   ]
  },
  {
   "cell_type": "code",
   "execution_count": 17,
   "metadata": {},
   "outputs": [
    {
     "name": "stdout",
     "output_type": "stream",
     "text": [
      "Bias: 2.6015174862821636e-14 \n",
      "Variance: 0.0074560594809442195\n"
     ]
    }
   ],
   "source": [
    "b = bias(y_train, linreg.predict(X_train)) #Your code here\n",
    "v = variance(linreg.predict(X_train)) #Your code here\n",
    "print('Bias: {} \\nVariance: {}'.format(b,v))"
   ]
  },
  {
   "cell_type": "markdown",
   "metadata": {},
   "source": [
    "## 9a. Plot your overfitted model's test predictions against the actual data."
   ]
  },
  {
   "cell_type": "code",
   "execution_count": 18,
   "metadata": {},
   "outputs": [
    {
     "data": {
      "text/plain": [
       "Text(0.5,1,'Model vs Data for Test Set')"
      ]
     },
     "execution_count": 18,
     "metadata": {},
     "output_type": "execute_result"
    },
    {
     "data": {
      "image/png": "[encoded data removed]",
      "text/plain": [
       "<Figure size 432x288 with 1 Axes>"
      ]
     },
     "metadata": {},
     "output_type": "display_data"
    }
   ],
   "source": [
    "linreg = LinearRegression()\n",
    "linreg.fit(X_train, y_train)\n",
    "plt.scatter(y_test, linreg.predict(X_test), label='Model')\n",
    "plt.scatter(y_test, y_test, label='Actual Data')\n",
    "plt.legend()\n",
    "plt.title('Model vs Data for Test Set')"
   ]
  },
  {
   "cell_type": "markdown",
   "metadata": {},
   "source": [
    "## 9b. Calculate the bias and variance for the train set."
   ]
  },
  {
   "cell_type": "code",
   "execution_count": 19,
   "metadata": {},
   "outputs": [
    {
     "name": "stdout",
     "output_type": "stream",
     "text": [
      "Bias: -1.997613587950512 \n",
      "Variance: 26.02909982221435\n"
     ]
    }
   ],
   "source": [
    "b = bias(y_test, linreg.predict(X_test)) #Your code here\n",
    "v = variance(linreg.predict(X_test)) #Your code here\n",
    "print('Bias: {} \\nVariance: {}'.format(b,v))"
   ]
  },
  {
   "cell_type": "markdown",
   "metadata": {},
   "source": [
    "## 10. Describe what you notice about the bias and variance statistics for your overfit model."
   ]
  },
  {
   "cell_type": "markdown",
   "metadata": {},
   "source": [
    "The bias and variance for the test set both increased drastically in the overfit model."
   ]
  }
 ],
 "metadata": {
  "kernelspec": {
   "display_name": "Python 3",
   "language": "python",
   "name": "python3"
  },
  "language_info": {
   "codemirror_mode": {
    "name": "ipython",
    "version": 3
   },
   "file_extension": ".py",
   "mimetype": "text/x-python",
   "name": "python",
   "nbconvert_exporter": "python",
   "pygments_lexer": "ipython3",
   "version": "3.6.5"
  }
 },
 "nbformat": 4,
 "nbformat_minor": 2
}
